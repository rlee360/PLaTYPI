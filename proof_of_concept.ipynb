{
 "cells": [
  {
   "cell_type": "code",
   "execution_count": null,
   "id": "d4d5803f",
   "metadata": {
    "scrolled": true
   },
   "outputs": [],
   "source": [
    "import ee\n",
    "\n",
    "ee.Initialize()"
   ]
  },
  {
   "cell_type": "code",
   "execution_count": 2,
   "id": "8f027524",
   "metadata": {},
   "outputs": [],
   "source": [
    "from counties import get_counties_dict\n",
    "\n",
    "import math\n",
    "from multiprocessing import Pool\n",
    "import os\n",
    "import json\n",
    "from pprint import pprint\n",
    "import numpy as np\n",
    "import matplotlib.pyplot as plt\n",
    "from sklearn.ensemble import RandomForestRegressor\n",
    "from sklearn.linear_model import LogisticRegression\n",
    "import geemap.eefolium as geemap\n",
    "import folium"
   ]
  },
  {
   "cell_type": "code",
   "execution_count": 4,
   "id": "76f56217",
   "metadata": {},
   "outputs": [],
   "source": [
    "def make_aoi(shape_file):\n",
    "    with open (shape_file, 'r') as f:\n",
    "        borders = json.load(f)\n",
    "\n",
    "    iowa_geometry = borders['features'][0]['geometry']\n",
    "    pprint(iowa_geometry)\n",
    "    return ee.Geometry(iowa_geometry)"
   ]
  },
  {
   "cell_type": "code",
   "execution_count": 5,
   "id": "1b469ad4",
   "metadata": {},
   "outputs": [],
   "source": [
    "# Crop Season\n",
    "start_date = '2019-04-01'\n",
    "end_date = '2019-11-01'\n",
    "area = 'iowa_simplified.geojson'\n",
    "\n",
    "\n",
    "\n",
    "collections = [\n",
    "    'NASA/ORNL/DAYMET_V4',\n",
    "    'ECMWF/ERA5/DAILY',\n",
    "    'NASA/GLDAS/V021/NOAH/G025/T3H',\n",
    "    'USDA/NASS/CDL'\n",
    "]\n",
    "\n",
    "def get_collections(aoi, collections, start_date, end_date):\n",
    "    date_filter = ee.Filter.date(start_date, end_date)\n",
    "    image_collections = []\n",
    "    for collection in collections:\n",
    "        image_collections.append(ee.ImageCollection(collection).filterBounds(aoi))\n",
    "\n",
    "    # inner_join = ee.Join.inner()\n",
    "    return image_collections\n",
    "    \n",
    "aoi = ee.FeatureCollection('TIGER/2018/States').filterMetadata('NAME', 'equals', 'Iowa').geometry()\n",
    "# image_collections = get_collections(aoi, collections[:2], start_date, end_date)\n",
    "crop_collection = get_collections(aoi, [collections[-1]], start_date, end_date)[0].filterDate('2018-01-01', '2019-12-31')"
   ]
  },
  {
   "cell_type": "code",
   "execution_count": 6,
   "id": "b35b2bc1",
   "metadata": {},
   "outputs": [],
   "source": [
    "crop_collection = crop_collection.map(lambda image: image.clip(aoi))\n",
    "crops = crop_collection.select(['confidence']).mean()\n",
    "\n",
    "crop_threshold = 97\n",
    "ee_crop_threshold = ee.Image.constant(crop_threshold)\n",
    "is_crop_mask = crops.gte(ee_crop_threshold)\n",
    "\n",
    "cultivated = crop_collection.select(['cultivated']).mean()\n",
    "\n",
    "cultivated_threshold = 1.5\n",
    "ee_cultivated_threshold = ee.Image.constant(cultivated_threshold)\n",
    "final_mask = cultivated.gte(ee_cultivated_threshold).bitwise_and(is_crop_mask)\n",
    "\n",
    "\n",
    "# for i in range(len(image_collections)):\n",
    "#     image_collections[i] = image_collections[i].filterDate(start_date, end_date)\n",
    "#     # image_collections[i] = image_collections[i].map(lambda image: image.clip(aoi))\n",
    "#     image_collections[i] = image_collections[i].map(lambda image: image.updateMask(final_mask))"
   ]
  },
  {
   "cell_type": "code",
   "execution_count": 7,
   "id": "1b2de154",
   "metadata": {},
   "outputs": [],
   "source": [
    "# Crop Season\n",
    "start_date = '04-01' # MM-DD\n",
    "end_date = '11-01' # MM-DD\n",
    "area = 'iowa_simplified.geojson'\n",
    "\n",
    "\n",
    "\n",
    "collections = [\n",
    "    'NASA/ORNL/DAYMET_V4',\n",
    "    'ECMWF/ERA5/DAILY',\n",
    "    'NASA/GLDAS/V021/NOAH/G025/T3H'\n",
    "]\n",
    "    \n",
    "aoi = ee.FeatureCollection('TIGER/2018/States').filterMetadata('NAME', 'equals', 'Iowa').geometry()\n",
    "\n",
    "\n",
    "def make_if_not_exists(path):\n",
    "    if not os.path.exists(path):\n",
    "        os.mkdir(path)\n",
    "\n",
    "counties_dict = get_counties_dict()\n",
    "\n",
    "cur_path = os.getcwd()\n",
    "make_if_not_exists(os.path.join(cur_path, 'data'))\n",
    "\n",
    "save_list = []\n",
    "\n",
    "for fip_code, county_name in counties_dict.items():\n",
    "    cname = county_name.replace(' ', '_')\n",
    "    os.mkdir(os.path.join(cur_path, 'data', f\"{cname}\"))\n",
    "    for year in range(2011, 2021):\n",
    "        make_if_not_exists(os.path.join(cur_path, 'data', f\"{cname}\", f\"{year}\"))\n",
    "        _start_date = f\"{year}-{start_date}\"\n",
    "        _end_date = f\"{year}-{end_date}\"\n",
    "        # date_filter = (_start_date, _end_date)\n",
    "        county_aoi = ee.FeatureCollection('TIGER/2018/Counties').filterMetadata('STATEFP', 'equals', '19').filterMetadata('COUNTYFP', 'equals', f'{(fip_code-19000):03}')\n",
    "        for collection in collections:\n",
    "            out_dir = os.path.join(cur_path, 'data', f\"{cname}\", f\"{year}\", f\"{collection.replace('/', '-')}\")\n",
    "            make_if_not_exists(out_dir)\n",
    "            clipped_ic = ee.ImageCollection(collection).filterBounds(county_aoi).filterDate(_start_date, _end_date).map(\n",
    "                lambda image : image.clip(county_aoi).updateMask(final_mask))\n",
    "            save_list.append((clipped_ic, out_dir, county_aoi))\n",
    "            \n",
    "            \n",
    "        "
   ]
  },
  {
   "cell_type": "code",
   "execution_count": 8,
   "id": "1bab7ff9",
   "metadata": {},
   "outputs": [
    {
     "name": "stdout",
     "output_type": "stream",
     "text": [
      "248\n"
     ]
    }
   ],
   "source": [
    "num_per_thread = int(math.ceil(len(save_list)/16))\n",
    "\n",
    "print(num_per_thread)\n",
    "\n",
    "new_list = [save_list[i:i+num_per_thread] for i in range(0, len(save_list), num_per_thread)]"
   ]
  },
  {
   "cell_type": "code",
   "execution_count": null,
   "id": "288f6388",
   "metadata": {},
   "outputs": [],
   "source": [
    "def save_col(a):\n",
    "    print(a[1])\n",
    "    geemap.ee_export_image_collection(a[0], out_dir=a[1])\n",
    "\n",
    "pool = Pool(16)\n",
    "\n",
    "pool.map(save_col, new_list)"
   ]
  },
  {
   "cell_type": "code",
   "execution_count": null,
   "id": "c986e7ab",
   "metadata": {
    "scrolled": true
   },
   "outputs": [],
   "source": [
    "counties_dict = get_counties_dict()\n",
    "\n",
    "\n",
    "def compute_histograms(steps):\n",
    "    counties_histograms = []\n",
    "\n",
    "    for fip_code, name in counties_dict.items():\n",
    "        hist_list = []\n",
    "        for ic in image_collections:\n",
    "            county_aoi = ee.FeatureCollection('TIGER/2018/Counties').filterMetadata('STATEFP', 'equals', '19').filterMetadata('COUNTYFP', 'equals', f'{(fip_code-19000):03}')\n",
    "            county_mins, county_maxs = (ic.min(), ic.max())\n",
    "            min_reducer = ee.Reducer.min()\n",
    "            max_reducer = ee.Reducer.max()\n",
    "            band_mins = county_mins.reduceRegion(reducer=min_reducer, geometry=county_aoi, scale=3500)\n",
    "            band_maxs = county_maxs.reduceRegion(reducer=max_reducer, geometry=county_aoi, scale=3500)\n",
    "\n",
    "            county_mins, county_maxs = (band_mins.getInfo(), band_maxs.getInfo())\n",
    "\n",
    "            county_ic = ic.map(lambda image : image.clip(county_aoi))\n",
    "            \n",
    "            band_stats = {}\n",
    "            for k, v in county_mins.items():\n",
    "                band_stats[k] = (v, county_maxs[k])\n",
    "            \n",
    "            for band_name, (band_min, band_max) in band_stats.items():\n",
    "                hist_reducer = ee.Reducer.fixedHistogram(min=band_min, max=band_max, steps=steps)\n",
    "                hist_list.append(county_ic.first().select([band_name]).reduceRegion(reducer=hist_reducer, geometry=county_aoi, scale=3500).getInfo())\n",
    "                print(hist_list)\n",
    "            break\n",
    "        break\n",
    "        counties_histograms.append(hist_list)\n",
    "    return counties_histograms\n",
    "\n",
    "hists = compute_histograms(1000)\n",
    "        \n",
    "# print(get_counties_dict())"
   ]
  },
  {
   "cell_type": "code",
   "execution_count": null,
   "id": "4ecf71d9",
   "metadata": {},
   "outputs": [],
   "source": [
    "img = ee.Image('LANDSAT/LC08/C01/T1_SR/LC08_038029_20180810')\n",
    "\n",
    "aoi = ee.Geometry.Polygon(\n",
    "  [[[-110.8, 44.7],\n",
    "    [-110.8, 44.6],\n",
    "    [-110.6, 44.6],\n",
    "    [-110.6, 44.7]]], None, False)\n",
    "\n",
    "rgb_img = geemap.ee_to_numpy(img, region=aoi)\n",
    "print(rgb_img.shape)\n",
    "\n",
    "rgb_img_test = (255*((rgb_img[:, :, 0:3] - 100)/3500)).astype('uint8')\n",
    "plt.imshow(rgb_img_test)\n",
    "plt.show()"
   ]
  },
  {
   "cell_type": "code",
   "execution_count": null,
   "id": "12189049",
   "metadata": {},
   "outputs": [],
   "source": [
    "ic = image_collections[0]\n",
    "\n",
    "mosaic = ic.mosaic()\n",
    "\n",
    "mosaic_viz = {\n",
    "    'min' : 0,\n",
    "    'max' : 2000,\n",
    "    'bands' : ['vp']\n",
    "}\n",
    "\n",
    "# (0, 86400)\n",
    "# (0, 544)\n",
    "# (0, 8230)"
   ]
  },
  {
   "cell_type": "code",
   "execution_count": null,
   "id": "9261cb99",
   "metadata": {
    "scrolled": false
   },
   "outputs": [],
   "source": [
    "map1 = geemap.Map(center=(41.7155, -93.0190), zoom=7)\n",
    "\n",
    "map1.addLayer(image_collections[0].mosaic(), mosaic_viz, 'Daymet Mosaic')\n",
    "\n",
    "test = crop_collection.first()\n",
    "\n",
    "crop_viz = {\n",
    "    'min' : 0,\n",
    "    'max' : 100,\n",
    "    'bands' : ['confidence']\n",
    "}\n",
    "\n",
    "map1.addLayer(test, crop_viz, 'Cropland')\n",
    "# map1.addLayer(thresh_mask, {}, 'Mask')\n",
    "map1"
   ]
  },
  {
   "cell_type": "code",
   "execution_count": null,
   "id": "52a2de92",
   "metadata": {
    "scrolled": false
   },
   "outputs": [],
   "source": [
    "dummy = geemap.ee_to_numpy(image_collections[0].first(), region=aoi)"
   ]
  },
  {
   "cell_type": "code",
   "execution_count": null,
   "id": "2c604a98",
   "metadata": {},
   "outputs": [],
   "source": [
    "print(dummy)"
   ]
  },
  {
   "cell_type": "code",
   "execution_count": null,
   "id": "7b8911d8",
   "metadata": {},
   "outputs": [],
   "source": [
    "def add_ee_layer(self, ee_image_object, vis_params, name):\n",
    "  map_id_dict = ee.Image(ee_image_object).getMapId(vis_params)\n",
    "  folium.raster_layers.TileLayer(\n",
    "      tiles=map_id_dict['tile_fetcher'].url_format,\n",
    "      attr='Map Data &copy; <a href=\"https://earthengine.google.com/\">Google Earth Engine</a>',\n",
    "      name=name,\n",
    "      overlay=True,\n",
    "      control=True\n",
    "  ).add_to(self)\n",
    "\n",
    "folium.Map.add_ee_layer = add_ee_layer"
   ]
  },
  {
   "cell_type": "code",
   "execution_count": null,
   "id": "824fc581",
   "metadata": {},
   "outputs": [],
   "source": [
    "# # Define the visualization parameters.\n",
    "# image_viz_params = {\n",
    "#     'bands': ['vp'],\n",
    "#     'min': 0,\n",
    "#     'max': 2000,\n",
    "# }\n",
    "\n",
    "# # Define a map centered on San Francisco Bay.\n",
    "# map_l8 = folium.Map(location=[41.7155, -93.0190], zoom_start=7)\n",
    "\n",
    "# # Add the image layer to the map and display it.\n",
    "# map_l8.add_ee_layer(ic.first(), image_viz_params, 'false color composite')\n",
    "# display(map_l8)"
   ]
  },
  {
   "cell_type": "code",
   "execution_count": null,
   "id": "717a5d99",
   "metadata": {},
   "outputs": [],
   "source": [
    "    #pprint(image_collections[i].first().getInfo())\n",
    "    # print('!!!!!!')\n",
    "\n",
    "    \n",
    "\n",
    "\n",
    "\n",
    "\n",
    "    \n",
    "# \"\"\"\n",
    "\n",
    "# # DAYMET\n",
    "\n",
    "# 'system:index': '20190401',\n",
    "# 'system:time_end': 1554163200000,\n",
    "# 'system:time_start': 1554076800000\n",
    "\n",
    "# # DAILY\n",
    "\n",
    "# 'system:index': '20190401',\n",
    "# 'system:time_end': 1554163200000,\n",
    "# 'system:time_start': 1554076800000,\n",
    "\n",
    "# # T3H\n",
    "# 'system:index': 'A20190401_0000',\n",
    "# 'system:time_end': 1554087600000,\n",
    "# 'system:time_start': 1554076800000\n",
    "# \"\"\""
   ]
  }
 ],
 "metadata": {
  "kernelspec": {
   "display_name": "Python 3",
   "language": "python",
   "name": "python3"
  },
  "language_info": {
   "codemirror_mode": {
    "name": "ipython",
    "version": 3
   },
   "file_extension": ".py",
   "mimetype": "text/x-python",
   "name": "python",
   "nbconvert_exporter": "python",
   "pygments_lexer": "ipython3",
   "version": "3.7.3"
  }
 },
 "nbformat": 4,
 "nbformat_minor": 5
}
